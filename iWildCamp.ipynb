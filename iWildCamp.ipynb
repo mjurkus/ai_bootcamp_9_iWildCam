{
 "cells": [
  {
   "cell_type": "code",
   "execution_count": 1,
   "metadata": {
    "pycharm": {
     "is_executing": false
    }
   },
   "outputs": [],
   "source": [
    "%load_ext autoreload\n",
    "%autoreload 2"
   ]
  },
  {
   "cell_type": "code",
   "execution_count": 2,
   "metadata": {
    "pycharm": {
     "is_executing": false
    }
   },
   "outputs": [
    {
     "name": "stderr",
     "text": [
      "/home/martynas/ml/.venv/lib/python3.6/site-packages/sklearn/externals/joblib/__init__.py:15: DeprecationWarning: sklearn.externals.joblib is deprecated in 0.21 and will be removed in 0.23. Please import this functionality directly from joblib, which can be installed with: pip install joblib. If this warning is raised when loading pickled models, you may need to re-serialize those models with scikit-learn 0.21+.\n  warnings.warn(msg, category=DeprecationWarning)\n"
     ],
     "output_type": "stream"
    }
   ],
   "source": [
    "import tensorflow as tf\n",
    "from tensorflow import keras\n",
    "from toai.imports import *\n",
    "\n",
    "#from data import DataContainer\n",
    "#from image import *\n",
    "#from image_learner import ImageLearner\n",
    "#from transformations import ImageParser, ImageCropTransformation, ImageRandomCropTransformation"
   ]
  },
  {
   "cell_type": "code",
   "execution_count": 3,
   "metadata": {
    "pycharm": {
     "is_executing": false
    }
   },
   "outputs": [
    {
     "name": "stdout",
     "text": [
      "PhysicalDevice(name='/physical_device:GPU:0', device_type='GPU')\n",
      "1 Physical GPUs, 1 Logical GPUs\n"
     ],
     "output_type": "stream"
    }
   ],
   "source": [
    "tf.debugging.set_log_device_placement(False)\n",
    "gpus = tf.config.experimental.list_physical_devices('GPU')\n",
    "if gpus:\n",
    "    try:\n",
    "        # Currently, memory growth needs to be the same across GPUs\n",
    "        for gpu in gpus:\n",
    "            print(gpu)\n",
    "            tf.config.experimental.set_memory_growth(gpu, True)\n",
    "        logical_gpus = tf.config.experimental.list_logical_devices('GPU')\n",
    "        print(len(gpus), \"Physical GPUs,\", len(logical_gpus), \"Logical GPUs\")\n",
    "    except RuntimeError as e:\n",
    "        # Memory growth must be set before GPUs have been initialized\n",
    "        print(e)"
   ]
  },
  {
   "cell_type": "code",
   "execution_count": 4,
   "metadata": {
    "pycharm": {
     "is_executing": false
    }
   },
   "outputs": [
    {
     "data": {
      "text/plain": "'2.0.0'"
     },
     "metadata": {},
     "output_type": "execute_result",
     "execution_count": 4
    }
   ],
   "source": [
    "__import__('tensorflow').__version__"
   ]
  },
  {
   "cell_type": "code",
   "execution_count": 5,
   "metadata": {
    "pycharm": {
     "is_executing": false
    }
   },
   "outputs": [],
   "source": [
    "DATA_DIR = Path('data')\n",
    "TEMP_DIR = Path('temp')\n",
    "DATA_DIR.mkdir(parents=True, exist_ok=True)\n",
    "TEMP_DIR.mkdir(parents=True, exist_ok=True)"
   ]
  },
  {
   "cell_type": "code",
   "execution_count": 10,
   "metadata": {
    "pycharm": {
     "is_executing": false
    }
   },
   "outputs": [],
   "source": [
    "df = pd.read_csv('train.csv', low_memory=False)"
   ]
  },
  {
   "cell_type": "code",
   "execution_count": 13,
   "outputs": [
    {
     "data": {
      "text/plain": "                                                       0  \\\ncategory_id                                           19   \ndate_captured                        2011-05-13 23:43:18   \nfile_name       5998cfa4-23d2-11e8-a6a3-ec086b02610b.jpg   \nframe_num                                              1   \nid                  5998cfa4-23d2-11e8-a6a3-ec086b02610b   \nlocation                                              33   \nrights_holder                               Justin Brown   \nseq_id              6f084ccc-5567-11e8-bc84-dca9047ef277   \nseq_num_frames                                         3   \nwidth                                               1024   \nheight                                               747   \n\n                                                       1  \\\ncategory_id                                           19   \ndate_captured                        2012-03-17 03:48:44   \nfile_name       588a679f-23d2-11e8-a6a3-ec086b02610b.jpg   \nframe_num                                              2   \nid                  588a679f-23d2-11e8-a6a3-ec086b02610b   \nlocation                                             115   \nrights_holder                               Justin Brown   \nseq_id              6f12067d-5567-11e8-b3c0-dca9047ef277   \nseq_num_frames                                         3   \nwidth                                               1024   \nheight                                               747   \n\n                                                       2  \\\ncategory_id                                            0   \ndate_captured                        2014-05-11 11:56:46   \nfile_name       59279ce3-23d2-11e8-a6a3-ec086b02610b.jpg   \nframe_num                                              1   \nid                  59279ce3-23d2-11e8-a6a3-ec086b02610b   \nlocation                                              96   \nrights_holder                              Erin Boydston   \nseq_id              6faa92d1-5567-11e8-b1ae-dca9047ef277   \nseq_num_frames                                         1   \nwidth                                               1024   \nheight                                               747   \n\n                                                       3  \\\ncategory_id                                            0   \ndate_captured                        2013-10-06 02:00:00   \nfile_name       5a2af4ab-23d2-11e8-a6a3-ec086b02610b.jpg   \nframe_num                                              1   \nid                  5a2af4ab-23d2-11e8-a6a3-ec086b02610b   \nlocation                                              57   \nrights_holder                              Erin Boydston   \nseq_id              6f7d4702-5567-11e8-9e03-dca9047ef277   \nseq_num_frames                                         1   \nwidth                                               1024   \nheight                                               747   \n\n                                                       4  \ncategory_id                                            0  \ndate_captured                        2011-07-12 13:11:16  \nfile_name       599fbd89-23d2-11e8-a6a3-ec086b02610b.jpg  \nframe_num                                              3  \nid                  599fbd89-23d2-11e8-a6a3-ec086b02610b  \nlocation                                              46  \nrights_holder                               Justin Brown  \nseq_id              6f1728a1-5567-11e8-9be7-dca9047ef277  \nseq_num_frames                                         3  \nwidth                                               1024  \nheight                                               747  ",
      "text/html": "<div>\n<style scoped>\n    .dataframe tbody tr th:only-of-type {\n        vertical-align: middle;\n    }\n\n    .dataframe tbody tr th {\n        vertical-align: top;\n    }\n\n    .dataframe thead th {\n        text-align: right;\n    }\n</style>\n<table border=\"1\" class=\"dataframe\">\n  <thead>\n    <tr style=\"text-align: right;\">\n      <th></th>\n      <th>0</th>\n      <th>1</th>\n      <th>2</th>\n      <th>3</th>\n      <th>4</th>\n    </tr>\n  </thead>\n  <tbody>\n    <tr>\n      <td>category_id</td>\n      <td>19</td>\n      <td>19</td>\n      <td>0</td>\n      <td>0</td>\n      <td>0</td>\n    </tr>\n    <tr>\n      <td>date_captured</td>\n      <td>2011-05-13 23:43:18</td>\n      <td>2012-03-17 03:48:44</td>\n      <td>2014-05-11 11:56:46</td>\n      <td>2013-10-06 02:00:00</td>\n      <td>2011-07-12 13:11:16</td>\n    </tr>\n    <tr>\n      <td>file_name</td>\n      <td>5998cfa4-23d2-11e8-a6a3-ec086b02610b.jpg</td>\n      <td>588a679f-23d2-11e8-a6a3-ec086b02610b.jpg</td>\n      <td>59279ce3-23d2-11e8-a6a3-ec086b02610b.jpg</td>\n      <td>5a2af4ab-23d2-11e8-a6a3-ec086b02610b.jpg</td>\n      <td>599fbd89-23d2-11e8-a6a3-ec086b02610b.jpg</td>\n    </tr>\n    <tr>\n      <td>frame_num</td>\n      <td>1</td>\n      <td>2</td>\n      <td>1</td>\n      <td>1</td>\n      <td>3</td>\n    </tr>\n    <tr>\n      <td>id</td>\n      <td>5998cfa4-23d2-11e8-a6a3-ec086b02610b</td>\n      <td>588a679f-23d2-11e8-a6a3-ec086b02610b</td>\n      <td>59279ce3-23d2-11e8-a6a3-ec086b02610b</td>\n      <td>5a2af4ab-23d2-11e8-a6a3-ec086b02610b</td>\n      <td>599fbd89-23d2-11e8-a6a3-ec086b02610b</td>\n    </tr>\n    <tr>\n      <td>location</td>\n      <td>33</td>\n      <td>115</td>\n      <td>96</td>\n      <td>57</td>\n      <td>46</td>\n    </tr>\n    <tr>\n      <td>rights_holder</td>\n      <td>Justin Brown</td>\n      <td>Justin Brown</td>\n      <td>Erin Boydston</td>\n      <td>Erin Boydston</td>\n      <td>Justin Brown</td>\n    </tr>\n    <tr>\n      <td>seq_id</td>\n      <td>6f084ccc-5567-11e8-bc84-dca9047ef277</td>\n      <td>6f12067d-5567-11e8-b3c0-dca9047ef277</td>\n      <td>6faa92d1-5567-11e8-b1ae-dca9047ef277</td>\n      <td>6f7d4702-5567-11e8-9e03-dca9047ef277</td>\n      <td>6f1728a1-5567-11e8-9be7-dca9047ef277</td>\n    </tr>\n    <tr>\n      <td>seq_num_frames</td>\n      <td>3</td>\n      <td>3</td>\n      <td>1</td>\n      <td>1</td>\n      <td>3</td>\n    </tr>\n    <tr>\n      <td>width</td>\n      <td>1024</td>\n      <td>1024</td>\n      <td>1024</td>\n      <td>1024</td>\n      <td>1024</td>\n    </tr>\n    <tr>\n      <td>height</td>\n      <td>747</td>\n      <td>747</td>\n      <td>747</td>\n      <td>747</td>\n      <td>747</td>\n    </tr>\n  </tbody>\n</table>\n</div>"
     },
     "metadata": {},
     "output_type": "execute_result",
     "execution_count": 13
    }
   ],
   "source": [
    "df.head().T"
   ],
   "metadata": {
    "collapsed": false,
    "pycharm": {
     "name": "#%%\n",
     "is_executing": false
    }
   }
  },
  {
   "cell_type": "code",
   "execution_count": 14,
   "outputs": [
    {
     "data": {
      "text/plain": "         category_id      frame_num      location  seq_num_frames     width  \\\ncount  196299.000000  196299.000000  196299.00000   196299.000000  196299.0   \nmean        4.085069       1.404047      65.83003        1.793494    1024.0   \nstd         6.749477       0.739637      34.35272        1.026838       0.0   \nmin         0.000000       1.000000       0.00000        1.000000    1024.0   \n25%         0.000000       1.000000      30.00000        1.000000    1024.0   \n50%         0.000000       1.000000      70.00000        1.000000    1024.0   \n75%         8.000000       2.000000      96.00000        3.000000    1024.0   \nmax        22.000000       5.000000     138.00000        5.000000    1024.0   \n\n              height  \ncount  196299.000000  \nmean      747.486600  \nstd         3.128948  \nmin       747.000000  \n25%       747.000000  \n50%       747.000000  \n75%       747.000000  \nmax       768.000000  ",
      "text/html": "<div>\n<style scoped>\n    .dataframe tbody tr th:only-of-type {\n        vertical-align: middle;\n    }\n\n    .dataframe tbody tr th {\n        vertical-align: top;\n    }\n\n    .dataframe thead th {\n        text-align: right;\n    }\n</style>\n<table border=\"1\" class=\"dataframe\">\n  <thead>\n    <tr style=\"text-align: right;\">\n      <th></th>\n      <th>category_id</th>\n      <th>frame_num</th>\n      <th>location</th>\n      <th>seq_num_frames</th>\n      <th>width</th>\n      <th>height</th>\n    </tr>\n  </thead>\n  <tbody>\n    <tr>\n      <td>count</td>\n      <td>196299.000000</td>\n      <td>196299.000000</td>\n      <td>196299.00000</td>\n      <td>196299.000000</td>\n      <td>196299.0</td>\n      <td>196299.000000</td>\n    </tr>\n    <tr>\n      <td>mean</td>\n      <td>4.085069</td>\n      <td>1.404047</td>\n      <td>65.83003</td>\n      <td>1.793494</td>\n      <td>1024.0</td>\n      <td>747.486600</td>\n    </tr>\n    <tr>\n      <td>std</td>\n      <td>6.749477</td>\n      <td>0.739637</td>\n      <td>34.35272</td>\n      <td>1.026838</td>\n      <td>0.0</td>\n      <td>3.128948</td>\n    </tr>\n    <tr>\n      <td>min</td>\n      <td>0.000000</td>\n      <td>1.000000</td>\n      <td>0.00000</td>\n      <td>1.000000</td>\n      <td>1024.0</td>\n      <td>747.000000</td>\n    </tr>\n    <tr>\n      <td>25%</td>\n      <td>0.000000</td>\n      <td>1.000000</td>\n      <td>30.00000</td>\n      <td>1.000000</td>\n      <td>1024.0</td>\n      <td>747.000000</td>\n    </tr>\n    <tr>\n      <td>50%</td>\n      <td>0.000000</td>\n      <td>1.000000</td>\n      <td>70.00000</td>\n      <td>1.000000</td>\n      <td>1024.0</td>\n      <td>747.000000</td>\n    </tr>\n    <tr>\n      <td>75%</td>\n      <td>8.000000</td>\n      <td>2.000000</td>\n      <td>96.00000</td>\n      <td>3.000000</td>\n      <td>1024.0</td>\n      <td>747.000000</td>\n    </tr>\n    <tr>\n      <td>max</td>\n      <td>22.000000</td>\n      <td>5.000000</td>\n      <td>138.00000</td>\n      <td>5.000000</td>\n      <td>1024.0</td>\n      <td>768.000000</td>\n    </tr>\n  </tbody>\n</table>\n</div>"
     },
     "metadata": {},
     "output_type": "execute_result",
     "execution_count": 14
    }
   ],
   "source": [
    "df.describe()"
   ],
   "metadata": {
    "collapsed": false,
    "pycharm": {
     "name": "#%%\n",
     "is_executing": false
    }
   }
  },
  {
   "cell_type": "code",
   "execution_count": 15,
   "outputs": [
    {
     "name": "stdout",
     "text": [
      "<class 'pandas.core.frame.DataFrame'>\nRangeIndex: 196299 entries, 0 to 196298\nData columns (total 11 columns):\ncategory_id       196299 non-null int64\ndate_captured     196299 non-null object\nfile_name         196299 non-null object\nframe_num         196299 non-null int64\nid                196299 non-null object\nlocation          196299 non-null int64\nrights_holder     196299 non-null object\nseq_id            196299 non-null object\nseq_num_frames    196299 non-null int64\nwidth             196299 non-null int64\nheight            196299 non-null int64\ndtypes: int64(6), object(5)\nmemory usage: 16.5+ MB\n"
     ],
     "output_type": "stream"
    }
   ],
   "source": [
    "df.info()\n",
    "\n"
   ],
   "metadata": {
    "collapsed": false,
    "pycharm": {
     "name": "#%%\n",
     "is_executing": false
    }
   }
  },
  {
   "cell_type": "code",
   "execution_count": 23,
   "outputs": [],
   "source": [
    "df['path'] = df['file_name'].apply(lambda fn : DATA_DIR/'train'/fn)"
   ],
   "metadata": {
    "collapsed": false,
    "pycharm": {
     "name": "#%%\n",
     "is_executing": false
    }
   }
  },
  {
   "cell_type": "code",
   "execution_count": 24,
   "outputs": [
    {
     "data": {
      "text/plain": "                                                                0  \\\ncategory_id                                                    19   \ndate_captured                                 2011-05-13 23:43:18   \nfile_name                5998cfa4-23d2-11e8-a6a3-ec086b02610b.jpg   \nframe_num                                                       1   \nid                           5998cfa4-23d2-11e8-a6a3-ec086b02610b   \nlocation                                                       33   \nrights_holder                                        Justin Brown   \nseq_id                       6f084ccc-5567-11e8-bc84-dca9047ef277   \nseq_num_frames                                                  3   \nwidth                                                        1024   \nheight                                                        747   \npath            data/train/5998cfa4-23d2-11e8-a6a3-ec086b02610...   \n\n                                                                1  \\\ncategory_id                                                    19   \ndate_captured                                 2012-03-17 03:48:44   \nfile_name                588a679f-23d2-11e8-a6a3-ec086b02610b.jpg   \nframe_num                                                       2   \nid                           588a679f-23d2-11e8-a6a3-ec086b02610b   \nlocation                                                      115   \nrights_holder                                        Justin Brown   \nseq_id                       6f12067d-5567-11e8-b3c0-dca9047ef277   \nseq_num_frames                                                  3   \nwidth                                                        1024   \nheight                                                        747   \npath            data/train/588a679f-23d2-11e8-a6a3-ec086b02610...   \n\n                                                                2  \\\ncategory_id                                                     0   \ndate_captured                                 2014-05-11 11:56:46   \nfile_name                59279ce3-23d2-11e8-a6a3-ec086b02610b.jpg   \nframe_num                                                       1   \nid                           59279ce3-23d2-11e8-a6a3-ec086b02610b   \nlocation                                                       96   \nrights_holder                                       Erin Boydston   \nseq_id                       6faa92d1-5567-11e8-b1ae-dca9047ef277   \nseq_num_frames                                                  1   \nwidth                                                        1024   \nheight                                                        747   \npath            data/train/59279ce3-23d2-11e8-a6a3-ec086b02610...   \n\n                                                                3  \\\ncategory_id                                                     0   \ndate_captured                                 2013-10-06 02:00:00   \nfile_name                5a2af4ab-23d2-11e8-a6a3-ec086b02610b.jpg   \nframe_num                                                       1   \nid                           5a2af4ab-23d2-11e8-a6a3-ec086b02610b   \nlocation                                                       57   \nrights_holder                                       Erin Boydston   \nseq_id                       6f7d4702-5567-11e8-9e03-dca9047ef277   \nseq_num_frames                                                  1   \nwidth                                                        1024   \nheight                                                        747   \npath            data/train/5a2af4ab-23d2-11e8-a6a3-ec086b02610...   \n\n                                                                4  \ncategory_id                                                     0  \ndate_captured                                 2011-07-12 13:11:16  \nfile_name                599fbd89-23d2-11e8-a6a3-ec086b02610b.jpg  \nframe_num                                                       3  \nid                           599fbd89-23d2-11e8-a6a3-ec086b02610b  \nlocation                                                       46  \nrights_holder                                        Justin Brown  \nseq_id                       6f1728a1-5567-11e8-9be7-dca9047ef277  \nseq_num_frames                                                  3  \nwidth                                                        1024  \nheight                                                        747  \npath            data/train/599fbd89-23d2-11e8-a6a3-ec086b02610...  ",
      "text/html": "<div>\n<style scoped>\n    .dataframe tbody tr th:only-of-type {\n        vertical-align: middle;\n    }\n\n    .dataframe tbody tr th {\n        vertical-align: top;\n    }\n\n    .dataframe thead th {\n        text-align: right;\n    }\n</style>\n<table border=\"1\" class=\"dataframe\">\n  <thead>\n    <tr style=\"text-align: right;\">\n      <th></th>\n      <th>0</th>\n      <th>1</th>\n      <th>2</th>\n      <th>3</th>\n      <th>4</th>\n    </tr>\n  </thead>\n  <tbody>\n    <tr>\n      <td>category_id</td>\n      <td>19</td>\n      <td>19</td>\n      <td>0</td>\n      <td>0</td>\n      <td>0</td>\n    </tr>\n    <tr>\n      <td>date_captured</td>\n      <td>2011-05-13 23:43:18</td>\n      <td>2012-03-17 03:48:44</td>\n      <td>2014-05-11 11:56:46</td>\n      <td>2013-10-06 02:00:00</td>\n      <td>2011-07-12 13:11:16</td>\n    </tr>\n    <tr>\n      <td>file_name</td>\n      <td>5998cfa4-23d2-11e8-a6a3-ec086b02610b.jpg</td>\n      <td>588a679f-23d2-11e8-a6a3-ec086b02610b.jpg</td>\n      <td>59279ce3-23d2-11e8-a6a3-ec086b02610b.jpg</td>\n      <td>5a2af4ab-23d2-11e8-a6a3-ec086b02610b.jpg</td>\n      <td>599fbd89-23d2-11e8-a6a3-ec086b02610b.jpg</td>\n    </tr>\n    <tr>\n      <td>frame_num</td>\n      <td>1</td>\n      <td>2</td>\n      <td>1</td>\n      <td>1</td>\n      <td>3</td>\n    </tr>\n    <tr>\n      <td>id</td>\n      <td>5998cfa4-23d2-11e8-a6a3-ec086b02610b</td>\n      <td>588a679f-23d2-11e8-a6a3-ec086b02610b</td>\n      <td>59279ce3-23d2-11e8-a6a3-ec086b02610b</td>\n      <td>5a2af4ab-23d2-11e8-a6a3-ec086b02610b</td>\n      <td>599fbd89-23d2-11e8-a6a3-ec086b02610b</td>\n    </tr>\n    <tr>\n      <td>location</td>\n      <td>33</td>\n      <td>115</td>\n      <td>96</td>\n      <td>57</td>\n      <td>46</td>\n    </tr>\n    <tr>\n      <td>rights_holder</td>\n      <td>Justin Brown</td>\n      <td>Justin Brown</td>\n      <td>Erin Boydston</td>\n      <td>Erin Boydston</td>\n      <td>Justin Brown</td>\n    </tr>\n    <tr>\n      <td>seq_id</td>\n      <td>6f084ccc-5567-11e8-bc84-dca9047ef277</td>\n      <td>6f12067d-5567-11e8-b3c0-dca9047ef277</td>\n      <td>6faa92d1-5567-11e8-b1ae-dca9047ef277</td>\n      <td>6f7d4702-5567-11e8-9e03-dca9047ef277</td>\n      <td>6f1728a1-5567-11e8-9be7-dca9047ef277</td>\n    </tr>\n    <tr>\n      <td>seq_num_frames</td>\n      <td>3</td>\n      <td>3</td>\n      <td>1</td>\n      <td>1</td>\n      <td>3</td>\n    </tr>\n    <tr>\n      <td>width</td>\n      <td>1024</td>\n      <td>1024</td>\n      <td>1024</td>\n      <td>1024</td>\n      <td>1024</td>\n    </tr>\n    <tr>\n      <td>height</td>\n      <td>747</td>\n      <td>747</td>\n      <td>747</td>\n      <td>747</td>\n      <td>747</td>\n    </tr>\n    <tr>\n      <td>path</td>\n      <td>data/train/5998cfa4-23d2-11e8-a6a3-ec086b02610...</td>\n      <td>data/train/588a679f-23d2-11e8-a6a3-ec086b02610...</td>\n      <td>data/train/59279ce3-23d2-11e8-a6a3-ec086b02610...</td>\n      <td>data/train/5a2af4ab-23d2-11e8-a6a3-ec086b02610...</td>\n      <td>data/train/599fbd89-23d2-11e8-a6a3-ec086b02610...</td>\n    </tr>\n  </tbody>\n</table>\n</div>"
     },
     "metadata": {},
     "output_type": "execute_result",
     "execution_count": 24
    }
   ],
   "source": [
    "df.head().T"
   ],
   "metadata": {
    "collapsed": false,
    "pycharm": {
     "name": "#%%\n",
     "is_executing": false
    }
   }
  },
  {
   "cell_type": "code",
   "execution_count": null,
   "outputs": [],
   "source": [
    "\n"
   ],
   "metadata": {
    "collapsed": false,
    "pycharm": {
     "name": "#%%\n"
    }
   }
  }
 ],
 "metadata": {
  "kernelspec": {
   "display_name": ".venv",
   "language": "python",
   "name": ".venv"
  },
  "language_info": {
   "codemirror_mode": {
    "name": "ipython",
    "version": 3
   },
   "file_extension": ".py",
   "mimetype": "text/x-python",
   "name": "python",
   "nbconvert_exporter": "python",
   "pygments_lexer": "ipython3",
   "version": "3.6.8"
  },
  "pycharm": {
   "stem_cell": {
    "cell_type": "raw",
    "source": [],
    "metadata": {
     "collapsed": false
    }
   }
  }
 },
 "nbformat": 4,
 "nbformat_minor": 2
}